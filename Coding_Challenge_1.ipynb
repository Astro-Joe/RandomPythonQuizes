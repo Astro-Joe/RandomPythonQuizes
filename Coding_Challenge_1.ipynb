{
 "cells": [
  {
   "cell_type": "code",
   "execution_count": 12,
   "id": "78bcbc93-0f06-4437-9bce-4db799d956dd",
   "metadata": {},
   "outputs": [],
   "source": [
    "import pandas as pd \n",
    "import numpy as np"
   ]
  },
  {
   "cell_type": "code",
   "execution_count": 153,
   "id": "8c04a16f-fed7-486c-96e7-e0c52ba548e0",
   "metadata": {},
   "outputs": [],
   "source": [
    "def handling_user_input():\n",
    "    \"\"\"Handles Users Inputs.\"\"\"\n",
    "    req_input = np.empty(7)\n",
    "    collected_input = []\n",
    "    init = 0   \n",
    "        \n",
    "    print(\"Enter 7 integers, each of which represents daily screen time:\\n\")\n",
    "    for i in range(len(req_input)):\n",
    "        init+=1\n",
    "        usr_input = input('Day ' + str(init) + \": \")\n",
    "        print()\n",
    "        collected_input.append(int(usr_input))\n",
    "    \n",
    "    \n",
    "    \n",
    "    inputs_dict = {'Day 1':collected_input[0], 'Day 2':collected_input[1],\n",
    "                      'Day 3':collected_input[2], 'Day 4':collected_input[3],\n",
    "                      'Day 5':collected_input[4], 'Day 6':collected_input[5],\n",
    "                      'Day 7':collected_input[6]}\n",
    "    # inputs_dict\n",
    "    hours = pd.DataFrame([inputs_dict], index=['Hours']).T\n",
    "\n",
    "    return hours\n",
    " \n",
    "def too_much_screen_time(hours): \n",
    "    \"\"\"Determines if the users has too much screen time in a week\"\"\"\n",
    "    \n",
    "    values = hours['Hours'].tolist()\n",
    "    mean_hours = hours['Hours'].mean()\n",
    "    if (hours['Hours'].values >= 10).any():\n",
    "        print(\"More than 10 hours in a day?!\\n\" + \"Your Screen time is too much!\")\n",
    "        \n",
    "    elif (mean_hours >= 6):\n",
    "        print(\"Average in 3 days: \" + str(mean_hours) + \"!\\n\" + \"Your Screen time is too much!\")\n",
    "        \n",
    "    elif any(sum(values[i:i+3])/3 >= 8 for i in range(len(values) - 2)):\n",
    "            print(\"Weekly Average too high\\n\" + \"Your Screen time is too much!\")\n",
    "        \n",
    "    else:\n",
    "        print(\"Screen time is OKAY!\")"
   ]
  },
  {
   "cell_type": "code",
   "execution_count": 155,
   "id": "4fe7f9cb-0635-4059-bacf-de7894c26573",
   "metadata": {},
   "outputs": [
    {
     "name": "stdout",
     "output_type": "stream",
     "text": [
      "Enter 7 integers, each of which represents daily screen time:\n",
      "\n"
     ]
    },
    {
     "name": "stdin",
     "output_type": "stream",
     "text": [
      "Day 1:  6\n"
     ]
    },
    {
     "name": "stdout",
     "output_type": "stream",
     "text": [
      "\n"
     ]
    },
    {
     "name": "stdin",
     "output_type": "stream",
     "text": [
      "Day 2:  6\n"
     ]
    },
    {
     "name": "stdout",
     "output_type": "stream",
     "text": [
      "\n"
     ]
    },
    {
     "name": "stdin",
     "output_type": "stream",
     "text": [
      "Day 3:  6\n"
     ]
    },
    {
     "name": "stdout",
     "output_type": "stream",
     "text": [
      "\n"
     ]
    },
    {
     "name": "stdin",
     "output_type": "stream",
     "text": [
      "Day 4:  6\n"
     ]
    },
    {
     "name": "stdout",
     "output_type": "stream",
     "text": [
      "\n"
     ]
    },
    {
     "name": "stdin",
     "output_type": "stream",
     "text": [
      "Day 5:  6\n"
     ]
    },
    {
     "name": "stdout",
     "output_type": "stream",
     "text": [
      "\n"
     ]
    },
    {
     "name": "stdin",
     "output_type": "stream",
     "text": [
      "Day 6:  6\n"
     ]
    },
    {
     "name": "stdout",
     "output_type": "stream",
     "text": [
      "\n"
     ]
    },
    {
     "name": "stdin",
     "output_type": "stream",
     "text": [
      "Day 7:  6\n"
     ]
    },
    {
     "name": "stdout",
     "output_type": "stream",
     "text": [
      "\n",
      "Average in 3 days: 6.0!\n",
      "Your Screen time is too much!\n"
     ]
    }
   ],
   "source": [
    "too_much_screen_time(handling_user_input())"
   ]
  },
  {
   "cell_type": "code",
   "execution_count": 65,
   "id": "cd3134c2-2347-4c8b-ab7a-2f8fa13720ff",
   "metadata": {},
   "outputs": [
    {
     "data": {
      "text/plain": [
       "[6, 5, 7, 10, 12, 11, 5]"
      ]
     },
     "execution_count": 65,
     "metadata": {},
     "output_type": "execute_result"
    }
   ],
   "source": [
    "collected_input"
   ]
  },
  {
   "cell_type": "code",
   "execution_count": 66,
   "id": "a5ec5879-8289-475b-837c-87320b69510c",
   "metadata": {},
   "outputs": [
    {
     "data": {
      "text/html": [
       "<div>\n",
       "<style scoped>\n",
       "    .dataframe tbody tr th:only-of-type {\n",
       "        vertical-align: middle;\n",
       "    }\n",
       "\n",
       "    .dataframe tbody tr th {\n",
       "        vertical-align: top;\n",
       "    }\n",
       "\n",
       "    .dataframe thead th {\n",
       "        text-align: right;\n",
       "    }\n",
       "</style>\n",
       "<table border=\"1\" class=\"dataframe\">\n",
       "  <thead>\n",
       "    <tr style=\"text-align: right;\">\n",
       "      <th></th>\n",
       "      <th>Hours</th>\n",
       "    </tr>\n",
       "  </thead>\n",
       "  <tbody>\n",
       "    <tr>\n",
       "      <th>Day 1</th>\n",
       "      <td>6</td>\n",
       "    </tr>\n",
       "    <tr>\n",
       "      <th>Day 2</th>\n",
       "      <td>7</td>\n",
       "    </tr>\n",
       "    <tr>\n",
       "      <th>Day 3</th>\n",
       "      <td>10</td>\n",
       "    </tr>\n",
       "    <tr>\n",
       "      <th>Day 4</th>\n",
       "      <td>6</td>\n",
       "    </tr>\n",
       "    <tr>\n",
       "      <th>Day 5</th>\n",
       "      <td>12</td>\n",
       "    </tr>\n",
       "    <tr>\n",
       "      <th>Day 6</th>\n",
       "      <td>11</td>\n",
       "    </tr>\n",
       "    <tr>\n",
       "      <th>Day 7</th>\n",
       "      <td>5</td>\n",
       "    </tr>\n",
       "  </tbody>\n",
       "</table>\n",
       "</div>"
      ],
      "text/plain": [
       "       Hours\n",
       "Day 1      6\n",
       "Day 2      7\n",
       "Day 3     10\n",
       "Day 4      6\n",
       "Day 5     12\n",
       "Day 6     11\n",
       "Day 7      5"
      ]
     },
     "execution_count": 66,
     "metadata": {},
     "output_type": "execute_result"
    }
   ],
   "source": [
    "data"
   ]
  },
  {
   "cell_type": "code",
   "execution_count": 103,
   "id": "0ab5da93-b507-439d-93f8-1bb498e7ee59",
   "metadata": {},
   "outputs": [
    {
     "name": "stdout",
     "output_type": "stream",
     "text": [
      "Your Screen time is too much!\n"
     ]
    }
   ],
   "source": [
    "if (data['Hours'].values >= 10).any():\n",
    "    print(\"Your Screen time is too much!\")"
   ]
  },
  {
   "cell_type": "code",
   "execution_count": 104,
   "id": "e5f6370b-8741-4e11-8f73-550e693284fc",
   "metadata": {},
   "outputs": [
    {
     "name": "stdout",
     "output_type": "stream",
     "text": [
      "Your Screen time is too much!\n"
     ]
    }
   ],
   "source": [
    "if (data['Hours'].mean() >= 6):\n",
    "    print(\"Your Screen time is too much!\")\n"
   ]
  }
 ],
 "metadata": {
  "kernelspec": {
   "display_name": "Python 3 (ipykernel)",
   "language": "python",
   "name": "python3"
  },
  "language_info": {
   "codemirror_mode": {
    "name": "ipython",
    "version": 3
   },
   "file_extension": ".py",
   "mimetype": "text/x-python",
   "name": "python",
   "nbconvert_exporter": "python",
   "pygments_lexer": "ipython3",
   "version": "3.12.7"
  }
 },
 "nbformat": 4,
 "nbformat_minor": 5
}
